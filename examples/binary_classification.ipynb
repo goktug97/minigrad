{
 "cells": [
  {
   "attachments": {},
   "cell_type": "markdown",
   "metadata": {},
   "source": [
    "## Binary Classification"
   ]
  },
  {
   "cell_type": "code",
   "execution_count": 2,
   "metadata": {},
   "outputs": [],
   "source": [
    "from kiwigrad import Value, MLP, Layer\n",
    "from sklearn.datasets import make_moons\n",
    "import numpy as np\n",
    "import time\n",
    "import matplotlib.pyplot as plt\n",
    "%matplotlib inline"
   ]
  },
  {
   "attachments": {},
   "cell_type": "markdown",
   "metadata": {},
   "source": [
    "### Dataset"
   ]
  },
  {
   "cell_type": "code",
   "execution_count": 3,
   "metadata": {},
   "outputs": [
    {
     "name": "stdout",
     "output_type": "stream",
     "text": [
      "(100, 2) <class 'numpy.ndarray'>\n",
      "(100,) <class 'numpy.ndarray'>\n"
     ]
    }
   ],
   "source": [
    "X, y = make_moons(n_samples=100, noise=0.1)\n",
    "print(X.shape, type(X))\n",
    "print(y.shape, type(y))"
   ]
  },
  {
   "cell_type": "code",
   "execution_count": 4,
   "metadata": {},
   "outputs": [
    {
     "data": {
      "text/plain": [
       "<matplotlib.collections.PathCollection at 0x7f99402eadf0>"
      ]
     },
     "execution_count": 4,
     "metadata": {},
     "output_type": "execute_result"
    },
    {
     "data": {
      "image/png": "[encoded data removed]",
      "text/plain": [
       "<Figure size 360x360 with 1 Axes>"
      ]
     },
     "metadata": {
      "needs_background": "light"
     },
     "output_type": "display_data"
    }
   ],
   "source": [
    "plt.figure(figsize=(5,5))\n",
    "plt.scatter(X[:,0], X[:,1], c=y, s=20, cmap='jet')"
   ]
  },
  {
   "cell_type": "code",
   "execution_count": 6,
   "metadata": {},
   "outputs": [],
   "source": [
    "# converts the X matrix into a list of Value objects\n",
    "inputs = [[Value(i) for i in elem] for elem in X]"
   ]
  },
  {
   "attachments": {},
   "cell_type": "markdown",
   "metadata": {},
   "source": [
    "### Multi layer perceptron"
   ]
  },
  {
   "cell_type": "code",
   "execution_count": 7,
   "metadata": {},
   "outputs": [
    {
     "name": "stdout",
     "output_type": "stream",
     "text": [
      "Value(data=-1.974414, grad=0.000000)\n"
     ]
    }
   ],
   "source": [
    "class PotNet(MLP):\n",
    "    def __init__(self):\n",
    "        layers = [\n",
    "            Layer(nin=2, nout=16, bias=True, activation=\"relu\"),\n",
    "            Layer(nin=16, nout=16, bias=True, activation=\"relu\"),\n",
    "            Layer(nin=16, nout=1, bias=True, activation=\"linear\")\n",
    "        ]\n",
    "        super().__init__(layers=layers)\n",
    "\n",
    "model = PotNet()\n",
    "y_pred = model(inputs[0])\n",
    "print(y_pred)"
   ]
  },
  {
   "attachments": {},
   "cell_type": "markdown",
   "metadata": {},
   "source": [
    "### Full batch gradient descent with BCE loss\n",
    "Binary Cross Entropy between the target and the input probabilities:\n",
    "$$l(x,y) = y_i\\cdot log x_i + (1-y_i)\\cdot log(1-x_i)$$\n",
    "\n",
    "Note that the targets $y$ should be numbers between 0 and 1\n"
   ]
  },
  {
   "cell_type": "code",
   "execution_count": 8,
   "metadata": {},
   "outputs": [],
   "source": [
    "def accuracy_val(y_pred, y_true):\n",
    "    y_pred = np.array(y_pred).round()\n",
    "    correct_results = np.sum(y_pred == y_true)\n",
    "    acc = correct_results/y_true.shape[0]\n",
    "    acc = np.round(acc * 100)\n",
    "    return acc"
   ]
  },
  {
   "cell_type": "code",
   "execution_count": 9,
   "metadata": {},
   "outputs": [
    {
     "name": "stdout",
     "output_type": "stream",
     "text": [
      "epoch: 0 | loss: 0.58 | accuracy: 69.0 | time: 0.05 sec.\n",
      "epoch: 10 | loss: 0.12 | accuracy: 84.0 | time: 0.08 sec.\n",
      "epoch: 20 | loss: 0.12 | accuracy: 86.0 | time: 0.04 sec.\n",
      "epoch: 30 | loss: 0.13 | accuracy: 87.0 | time: 0.04 sec.\n",
      "epoch: 40 | loss: 0.13 | accuracy: 88.0 | time: 0.04 sec.\n",
      "epoch: 50 | loss: 0.13 | accuracy: 89.0 | time: 0.04 sec.\n",
      "epoch: 60 | loss: 0.12 | accuracy: 89.0 | time: 0.04 sec.\n",
      "epoch: 70 | loss: 0.11 | accuracy: 90.0 | time: 0.04 sec.\n",
      "epoch: 80 | loss: 0.10 | accuracy: 92.0 | time: 0.04 sec.\n",
      "epoch: 90 | loss: 0.09 | accuracy: 94.0 | time: 0.04 sec.\n",
      "epoch: 100 | loss: 0.09 | accuracy: 95.0 | time: 0.04 sec.\n",
      "epoch: 110 | loss: 0.08 | accuracy: 96.0 | time: 0.04 sec.\n",
      "epoch: 120 | loss: 0.08 | accuracy: 96.0 | time: 0.04 sec.\n",
      "epoch: 130 | loss: 0.07 | accuracy: 97.0 | time: 0.04 sec.\n",
      "epoch: 140 | loss: 0.07 | accuracy: 97.0 | time: 0.04 sec.\n",
      "epoch: 150 | loss: 0.06 | accuracy: 97.0 | time: 0.04 sec.\n",
      "epoch: 160 | loss: 0.06 | accuracy: 98.0 | time: 0.04 sec.\n",
      "epoch: 170 | loss: 0.05 | accuracy: 98.0 | time: 0.04 sec.\n",
      "epoch: 180 | loss: 0.05 | accuracy: 98.0 | time: 0.04 sec.\n",
      "epoch: 190 | loss: 0.04 | accuracy: 98.0 | time: 0.04 sec.\n",
      "epoch: 199 | loss: 0.04 | accuracy: 98.0 | time: 0.04 sec.\n"
     ]
    }
   ],
   "source": [
    "epochs = 200\n",
    "lr = 0.001\n",
    "for epoch in range(epochs):\n",
    "    y_pred = []\n",
    "    s = time.monotonic()\n",
    "    for i in range(len(inputs)):\n",
    "        output = model(inputs[i]).sigmoid()\n",
    "        y_pred.append(output.data)\n",
    "        neg_output = Value(1)-output\n",
    "        target = Value(y[i])\n",
    "        bce_loss = -(target * output.log() + (Value(1)-target)*neg_output.log())\n",
    "        bce_loss.backward()\n",
    "        for p in model.parameters():\n",
    "            p.data += -lr * p.grad \n",
    "        model.zero_grad()\n",
    "    acc = accuracy_val(y_pred=y_pred, y_true=y)\n",
    "    e = time.monotonic()\n",
    "    t = e - s\n",
    "    if epoch % 10 == 0 or epoch==(epochs-1):\n",
    "        print(f\"epoch: {epoch} |\", f\"loss: {bce_loss.data:.2f} |\", f\"accuracy: {acc} |\", f\"time: {t:.2f} sec.\")"
   ]
  },
  {
   "attachments": {},
   "cell_type": "markdown",
   "metadata": {},
   "source": [
    "### Result"
   ]
  },
  {
   "cell_type": "code",
   "execution_count": 10,
   "metadata": {},
   "outputs": [
    {
     "data": {
      "text/plain": [
       "(-1.7204530133215412, 2.029546986678459)"
      ]
     },
     "execution_count": 10,
     "metadata": {},
     "output_type": "execute_result"
    },
    {
     "data": {
      "image/png": "[encoded data removed]",
      "text/plain": [
       "<Figure size 432x288 with 1 Axes>"
      ]
     },
     "metadata": {
      "needs_background": "light"
     },
     "output_type": "display_data"
    }
   ],
   "source": [
    "# visualize decision boundary\n",
    "h = 0.25\n",
    "x_min, x_max = X[:, 0].min() - 1, X[:, 0].max() + 1\n",
    "y_min, y_max = X[:, 1].min() - 1, X[:, 1].max() + 1\n",
    "xx, yy = np.meshgrid(np.arange(x_min, x_max, h),\n",
    "                     np.arange(y_min, y_max, h))\n",
    "Xmesh = np.c_[xx.ravel(), yy.ravel()]\n",
    "inputs = [list(map(Value, xrow)) for xrow in Xmesh]\n",
    "scores = list(map(model, inputs))\n",
    "Z = np.array([s.data > 0 for s in scores])\n",
    "Z = Z.reshape(xx.shape)\n",
    "\n",
    "fig = plt.figure()\n",
    "plt.contourf(xx, yy, Z, cmap=plt.cm.Spectral, alpha=0.8)\n",
    "plt.scatter(X[:, 0], X[:, 1], c=y, s=40, cmap=plt.cm.Spectral)\n",
    "plt.xlim(xx.min(), xx.max())\n",
    "plt.ylim(yy.min(), yy.max())"
   ]
  }
 ],
 "metadata": {
  "kernelspec": {
   "display_name": "base",
   "language": "python",
   "name": "python3"
  },
  "language_info": {
   "codemirror_mode": {
    "name": "ipython",
    "version": 3
   },
   "file_extension": ".py",
   "mimetype": "text/x-python",
   "name": "python",
   "nbconvert_exporter": "python",
   "pygments_lexer": "ipython3",
   "version": "3.9.12"
  },
  "orig_nbformat": 4
 },
 "nbformat": 4,
 "nbformat_minor": 2
}
